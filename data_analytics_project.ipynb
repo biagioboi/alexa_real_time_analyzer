{
  "nbformat": 4,
  "nbformat_minor": 0,
  "metadata": {
    "colab": {
      "name": "data_analytics_project.ipynb",
      "provenance": [],
      "toc_visible": true,
      "collapsed_sections": []
    },
    "kernelspec": {
      "name": "python3",
      "display_name": "Python 3"
    },
    "language_info": {
      "name": "python"
    }
  },
  "cells": [
    {
      "cell_type": "markdown",
      "metadata": {
        "id": "TFAVffA7iZc2"
      },
      "source": [
        "# Colab Configuration\n",
        "\n",
        "Mount the drive and change the directory to reach the dataset directory."
      ]
    },
    {
      "cell_type": "code",
      "metadata": {
        "colab": {
          "base_uri": "https://localhost:8080/"
        },
        "id": "2c_M7woTifbl",
        "outputId": "bdda68a5-2205-4cf3-8151-99272fd42239"
      },
      "source": [
        "from google.colab import drive\n",
        "\n",
        "!pip install progressbar2\n",
        "drive.mount('/content/drive', force_remount=True)\n",
        "%cd \"drive/MyDrive/data_analytics_project/dataset\""
      ],
      "execution_count": null,
      "outputs": [
        {
          "output_type": "stream",
          "name": "stdout",
          "text": [
            "Requirement already satisfied: progressbar2 in /usr/local/lib/python3.7/dist-packages (3.38.0)\n",
            "Requirement already satisfied: six in /usr/local/lib/python3.7/dist-packages (from progressbar2) (1.15.0)\n",
            "Requirement already satisfied: python-utils>=2.3.0 in /usr/local/lib/python3.7/dist-packages (from progressbar2) (3.0.0)\n",
            "Mounted at /content/drive\n",
            "/content/drive/MyDrive/data_analytics_project/dataset\n"
          ]
        }
      ]
    },
    {
      "cell_type": "markdown",
      "source": [
        "# Dataset"
      ],
      "metadata": {
        "id": "ex9wz132Toe0"
      }
    },
    {
      "cell_type": "markdown",
      "source": [
        "\n",
        "\n",
        "## Merging\n",
        "Check for all the existing dataset, and merge them together in order to create an unique dataset foreach category."
      ],
      "metadata": {
        "id": "VyM_2S2HPHvH"
      }
    },
    {
      "cell_type": "code",
      "source": [
        "import os\n",
        "import pandas as pd\n",
        "\n",
        "categories = {'microphone_mute' : None, 'music_stream': None, 'no_wake_word': None, 'normal_conversation': None}\n",
        "to_concat = []\n",
        "\n",
        "for category in categories:\n",
        "  dir_list = os.listdir(category) # retrieve all files of current category\n",
        "  datasets = []\n",
        "  for dataset_name in dir_list: # foreach csv file\n",
        "    current_dataset = pd.read_csv(category + \"/\" + dataset_name) # parse csv\n",
        "    datasets.append(current_dataset) # append this csv to the other\n",
        "  categories[category] = pd.concat(datasets, ignore_index=True)\n",
        "  to_concat.append(categories[category])\n",
        "\n",
        "\n",
        "full_dataset = pd.concat(to_concat, ignore_index=True) # merge all the dataset"
      ],
      "metadata": {
        "id": "mJVrL8NVT14D"
      },
      "execution_count": null,
      "outputs": []
    },
    {
      "cell_type": "markdown",
      "source": [
        "## Avoid NaN values\n",
        "As seen in the previous subsection, there are some values set to NaN, that have no meaning for the classificator. Let's see in detail how many values we have."
      ],
      "metadata": {
        "id": "l3v0eRIDPkFI"
      }
    },
    {
      "cell_type": "code",
      "source": [
        "print(\"Features and n° of NaN values\")\n",
        "print(full_dataset.isna().sum())"
      ],
      "metadata": {
        "colab": {
          "base_uri": "https://localhost:8080/"
        },
        "id": "ZFEohMmvP4vQ",
        "outputId": "17e825b1-9aa1-4c58-b3ee-4bcca2cb4840"
      },
      "execution_count": null,
      "outputs": [
        {
          "output_type": "stream",
          "name": "stdout",
          "text": [
            "Features and n° of NaN values\n",
            "date                 0\n",
            "length               0\n",
            "dstip                0\n",
            "dstport              0\n",
            "highest_layer        0\n",
            "delta                0\n",
            "ack_flag             0\n",
            "microphone           0\n",
            "content_type     51563\n",
            "synchronized         0\n",
            "class                0\n",
            "dtype: int64\n"
          ]
        }
      ]
    },
    {
      "cell_type": "markdown",
      "source": [
        "So, we need to put all the NaN values seen in *content_type* features to a double valid value. Since in this particular feature we have value in range [21.0 - 23.0] we can easily set all the NaN values to 0.0. Then, re-print the NaN values to check if everything is ok. "
      ],
      "metadata": {
        "id": "3hbntWbVSDS2"
      }
    },
    {
      "cell_type": "code",
      "source": [
        "import math\n",
        "\n",
        "new_values = []\n",
        "for value in full_dataset['content_type']:\n",
        "  if (math.isnan(value)):\n",
        "    new_values.append(0.0)\n",
        "  else:\n",
        "    new_values.append(value)\n",
        "full_dataset.update({'content_type': new_values})\n",
        "print(full_dataset.isna().sum())"
      ],
      "metadata": {
        "colab": {
          "base_uri": "https://localhost:8080/"
        },
        "id": "KXnLldgZSdJj",
        "outputId": "035868af-1aa2-4da3-8b02-34cd14d466e1"
      },
      "execution_count": null,
      "outputs": [
        {
          "output_type": "stream",
          "name": "stdout",
          "text": [
            "date             0\n",
            "length           0\n",
            "dstip            0\n",
            "dstport          0\n",
            "highest_layer    0\n",
            "delta            0\n",
            "ack_flag         0\n",
            "microphone       0\n",
            "content_type     0\n",
            "synchronized     0\n",
            "class            0\n",
            "dtype: int64\n"
          ]
        }
      ]
    },
    {
      "cell_type": "markdown",
      "source": [
        "## Not relevant features\n",
        "Since we have collected also information related to the particular instance of packets, which cannot be generalized for all the packets it's important to remove those features. In particular, we will remove *date* and *dstip* feature; then print the features."
      ],
      "metadata": {
        "id": "9SqISrgrT1Ez"
      }
    },
    {
      "cell_type": "code",
      "source": [
        "reduced_dataset = full_dataset.drop('date', 1)\n",
        "reduced_dataset = reduced_dataset.drop('dstip', 1)\n",
        "\n",
        "reduced_dataset"
      ],
      "metadata": {
        "colab": {
          "base_uri": "https://localhost:8080/",
          "height": 424
        },
        "id": "xRJ_Br7YUVx0",
        "outputId": "cbd16cbf-bb2c-4756-84b5-e634e3f08633"
      },
      "execution_count": null,
      "outputs": [
        {
          "output_type": "execute_result",
          "data": {
            "text/html": [
              "\n",
              "  <div id=\"df-37e20d3e-e901-45ac-9c15-2fa439680549\">\n",
              "    <div class=\"colab-df-container\">\n",
              "      <div>\n",
              "<style scoped>\n",
              "    .dataframe tbody tr th:only-of-type {\n",
              "        vertical-align: middle;\n",
              "    }\n",
              "\n",
              "    .dataframe tbody tr th {\n",
              "        vertical-align: top;\n",
              "    }\n",
              "\n",
              "    .dataframe thead th {\n",
              "        text-align: right;\n",
              "    }\n",
              "</style>\n",
              "<table border=\"1\" class=\"dataframe\">\n",
              "  <thead>\n",
              "    <tr style=\"text-align: right;\">\n",
              "      <th></th>\n",
              "      <th>length</th>\n",
              "      <th>dstport</th>\n",
              "      <th>highest_layer</th>\n",
              "      <th>delta</th>\n",
              "      <th>ack_flag</th>\n",
              "      <th>microphone</th>\n",
              "      <th>content_type</th>\n",
              "      <th>synchronized</th>\n",
              "      <th>class</th>\n",
              "    </tr>\n",
              "  </thead>\n",
              "  <tbody>\n",
              "    <tr>\n",
              "      <th>0</th>\n",
              "      <td>77</td>\n",
              "      <td>4070</td>\n",
              "      <td>2.0</td>\n",
              "      <td>0</td>\n",
              "      <td>1</td>\n",
              "      <td>0</td>\n",
              "      <td>0.0</td>\n",
              "      <td>1</td>\n",
              "      <td>syn</td>\n",
              "    </tr>\n",
              "    <tr>\n",
              "      <th>1</th>\n",
              "      <td>66</td>\n",
              "      <td>4070</td>\n",
              "      <td>1.0</td>\n",
              "      <td>0</td>\n",
              "      <td>1</td>\n",
              "      <td>0</td>\n",
              "      <td>0.0</td>\n",
              "      <td>1</td>\n",
              "      <td>ack</td>\n",
              "    </tr>\n",
              "    <tr>\n",
              "      <th>2</th>\n",
              "      <td>100</td>\n",
              "      <td>443</td>\n",
              "      <td>0.0</td>\n",
              "      <td>0</td>\n",
              "      <td>1</td>\n",
              "      <td>0</td>\n",
              "      <td>23.0</td>\n",
              "      <td>1</td>\n",
              "      <td>syn</td>\n",
              "    </tr>\n",
              "    <tr>\n",
              "      <th>3</th>\n",
              "      <td>66</td>\n",
              "      <td>4070</td>\n",
              "      <td>1.0</td>\n",
              "      <td>13318</td>\n",
              "      <td>1</td>\n",
              "      <td>0</td>\n",
              "      <td>0.0</td>\n",
              "      <td>1</td>\n",
              "      <td>ack</td>\n",
              "    </tr>\n",
              "    <tr>\n",
              "      <th>4</th>\n",
              "      <td>351</td>\n",
              "      <td>443</td>\n",
              "      <td>0.0</td>\n",
              "      <td>15316</td>\n",
              "      <td>1</td>\n",
              "      <td>0</td>\n",
              "      <td>23.0</td>\n",
              "      <td>1</td>\n",
              "      <td>not_justified</td>\n",
              "    </tr>\n",
              "    <tr>\n",
              "      <th>...</th>\n",
              "      <td>...</td>\n",
              "      <td>...</td>\n",
              "      <td>...</td>\n",
              "      <td>...</td>\n",
              "      <td>...</td>\n",
              "      <td>...</td>\n",
              "      <td>...</td>\n",
              "      <td>...</td>\n",
              "      <td>...</td>\n",
              "    </tr>\n",
              "    <tr>\n",
              "      <th>62625</th>\n",
              "      <td>66</td>\n",
              "      <td>443</td>\n",
              "      <td>1.0</td>\n",
              "      <td>63</td>\n",
              "      <td>1</td>\n",
              "      <td>1</td>\n",
              "      <td>0.0</td>\n",
              "      <td>1</td>\n",
              "      <td>ack</td>\n",
              "    </tr>\n",
              "    <tr>\n",
              "      <th>62626</th>\n",
              "      <td>66</td>\n",
              "      <td>443</td>\n",
              "      <td>1.0</td>\n",
              "      <td>150</td>\n",
              "      <td>1</td>\n",
              "      <td>1</td>\n",
              "      <td>0.0</td>\n",
              "      <td>1</td>\n",
              "      <td>ack</td>\n",
              "    </tr>\n",
              "    <tr>\n",
              "      <th>62627</th>\n",
              "      <td>602</td>\n",
              "      <td>443</td>\n",
              "      <td>0.0</td>\n",
              "      <td>2</td>\n",
              "      <td>1</td>\n",
              "      <td>1</td>\n",
              "      <td>23.0</td>\n",
              "      <td>1</td>\n",
              "      <td>expected</td>\n",
              "    </tr>\n",
              "    <tr>\n",
              "      <th>62628</th>\n",
              "      <td>97</td>\n",
              "      <td>443</td>\n",
              "      <td>0.0</td>\n",
              "      <td>208</td>\n",
              "      <td>1</td>\n",
              "      <td>1</td>\n",
              "      <td>21.0</td>\n",
              "      <td>1</td>\n",
              "      <td>handshake</td>\n",
              "    </tr>\n",
              "    <tr>\n",
              "      <th>62629</th>\n",
              "      <td>66</td>\n",
              "      <td>443</td>\n",
              "      <td>1.0</td>\n",
              "      <td>0</td>\n",
              "      <td>1</td>\n",
              "      <td>1</td>\n",
              "      <td>0.0</td>\n",
              "      <td>1</td>\n",
              "      <td>ack</td>\n",
              "    </tr>\n",
              "  </tbody>\n",
              "</table>\n",
              "<p>62630 rows × 9 columns</p>\n",
              "</div>\n",
              "      <button class=\"colab-df-convert\" onclick=\"convertToInteractive('df-37e20d3e-e901-45ac-9c15-2fa439680549')\"\n",
              "              title=\"Convert this dataframe to an interactive table.\"\n",
              "              style=\"display:none;\">\n",
              "        \n",
              "  <svg xmlns=\"http://www.w3.org/2000/svg\" height=\"24px\"viewBox=\"0 0 24 24\"\n",
              "       width=\"24px\">\n",
              "    <path d=\"M0 0h24v24H0V0z\" fill=\"none\"/>\n",
              "    <path d=\"M18.56 5.44l.94 2.06.94-2.06 2.06-.94-2.06-.94-.94-2.06-.94 2.06-2.06.94zm-11 1L8.5 8.5l.94-2.06 2.06-.94-2.06-.94L8.5 2.5l-.94 2.06-2.06.94zm10 10l.94 2.06.94-2.06 2.06-.94-2.06-.94-.94-2.06-.94 2.06-2.06.94z\"/><path d=\"M17.41 7.96l-1.37-1.37c-.4-.4-.92-.59-1.43-.59-.52 0-1.04.2-1.43.59L10.3 9.45l-7.72 7.72c-.78.78-.78 2.05 0 2.83L4 21.41c.39.39.9.59 1.41.59.51 0 1.02-.2 1.41-.59l7.78-7.78 2.81-2.81c.8-.78.8-2.07 0-2.86zM5.41 20L4 18.59l7.72-7.72 1.47 1.35L5.41 20z\"/>\n",
              "  </svg>\n",
              "      </button>\n",
              "      \n",
              "  <style>\n",
              "    .colab-df-container {\n",
              "      display:flex;\n",
              "      flex-wrap:wrap;\n",
              "      gap: 12px;\n",
              "    }\n",
              "\n",
              "    .colab-df-convert {\n",
              "      background-color: #E8F0FE;\n",
              "      border: none;\n",
              "      border-radius: 50%;\n",
              "      cursor: pointer;\n",
              "      display: none;\n",
              "      fill: #1967D2;\n",
              "      height: 32px;\n",
              "      padding: 0 0 0 0;\n",
              "      width: 32px;\n",
              "    }\n",
              "\n",
              "    .colab-df-convert:hover {\n",
              "      background-color: #E2EBFA;\n",
              "      box-shadow: 0px 1px 2px rgba(60, 64, 67, 0.3), 0px 1px 3px 1px rgba(60, 64, 67, 0.15);\n",
              "      fill: #174EA6;\n",
              "    }\n",
              "\n",
              "    [theme=dark] .colab-df-convert {\n",
              "      background-color: #3B4455;\n",
              "      fill: #D2E3FC;\n",
              "    }\n",
              "\n",
              "    [theme=dark] .colab-df-convert:hover {\n",
              "      background-color: #434B5C;\n",
              "      box-shadow: 0px 1px 3px 1px rgba(0, 0, 0, 0.15);\n",
              "      filter: drop-shadow(0px 1px 2px rgba(0, 0, 0, 0.3));\n",
              "      fill: #FFFFFF;\n",
              "    }\n",
              "  </style>\n",
              "\n",
              "      <script>\n",
              "        const buttonEl =\n",
              "          document.querySelector('#df-37e20d3e-e901-45ac-9c15-2fa439680549 button.colab-df-convert');\n",
              "        buttonEl.style.display =\n",
              "          google.colab.kernel.accessAllowed ? 'block' : 'none';\n",
              "\n",
              "        async function convertToInteractive(key) {\n",
              "          const element = document.querySelector('#df-37e20d3e-e901-45ac-9c15-2fa439680549');\n",
              "          const dataTable =\n",
              "            await google.colab.kernel.invokeFunction('convertToInteractive',\n",
              "                                                     [key], {});\n",
              "          if (!dataTable) return;\n",
              "\n",
              "          const docLinkHtml = 'Like what you see? Visit the ' +\n",
              "            '<a target=\"_blank\" href=https://colab.research.google.com/notebooks/data_table.ipynb>data table notebook</a>'\n",
              "            + ' to learn more about interactive tables.';\n",
              "          element.innerHTML = '';\n",
              "          dataTable['output_type'] = 'display_data';\n",
              "          await google.colab.output.renderOutput(dataTable, element);\n",
              "          const docLink = document.createElement('div');\n",
              "          docLink.innerHTML = docLinkHtml;\n",
              "          element.appendChild(docLink);\n",
              "        }\n",
              "      </script>\n",
              "    </div>\n",
              "  </div>\n",
              "  "
            ],
            "text/plain": [
              "       length  dstport  ...  synchronized          class\n",
              "0          77     4070  ...             1            syn\n",
              "1          66     4070  ...             1            ack\n",
              "2         100      443  ...             1            syn\n",
              "3          66     4070  ...             1            ack\n",
              "4         351      443  ...             1  not_justified\n",
              "...       ...      ...  ...           ...            ...\n",
              "62625      66      443  ...             1            ack\n",
              "62626      66      443  ...             1            ack\n",
              "62627     602      443  ...             1       expected\n",
              "62628      97      443  ...             1      handshake\n",
              "62629      66      443  ...             1            ack\n",
              "\n",
              "[62630 rows x 9 columns]"
            ]
          },
          "metadata": {},
          "execution_count": 5
        }
      ]
    },
    {
      "cell_type": "markdown",
      "source": [
        "## Analysis\n"
      ],
      "metadata": {
        "id": "mRLGVMnBOoFk"
      }
    },
    {
      "cell_type": "markdown",
      "source": [
        "### Target class\n",
        "Start the analysis from understand the distribution of target classes."
      ],
      "metadata": {
        "id": "yq5ePktXmzJK"
      }
    },
    {
      "cell_type": "code",
      "source": [
        "import matplotlib.pyplot as plt\n",
        "import numpy as np\n",
        "\n",
        "labels = []\n",
        "y = []\n",
        "classes = reduced_dataset['class'].value_counts()\n",
        "for label, num_items in classes.items():\n",
        "  labels.append(label)\n",
        "  print(num_items)\n",
        "  y.append(num_items)\n",
        "\n",
        "plt.pie(y, labels = labels)\n",
        "plt.show() "
      ],
      "metadata": {
        "colab": {
          "base_uri": "https://localhost:8080/",
          "height": 387
        },
        "id": "k_f7pmn9Ou4q",
        "outputId": "d7cee449-79fb-4bd9-b38c-394615080bb5"
      },
      "execution_count": null,
      "outputs": [
        {
          "output_type": "stream",
          "name": "stdout",
          "text": [
            "48252\n",
            "4813\n",
            "2888\n",
            "1751\n",
            "1457\n",
            "1361\n",
            "1316\n",
            "792\n"
          ]
        },
        {
          "output_type": "display_data",
          "data": {
            "image/png": "[encoded data removed]",
            "text/plain": [
              "<Figure size 432x288 with 1 Axes>"
            ]
          },
          "metadata": {}
        }
      ]
    },
    {
      "cell_type": "markdown",
      "source": [
        "Since there are too many packets classified as ack we need to do some kind of reduction; for this reason we will exclude 95% of ack packets."
      ],
      "metadata": {
        "id": "koydDAdge_tj"
      }
    },
    {
      "cell_type": "code",
      "source": [
        "reduced_dataset = reduced_dataset.drop(reduced_dataset[reduced_dataset['class'] == 'ack'].sample(frac=0.95).index)"
      ],
      "metadata": {
        "id": "e1wpl5xefdpc"
      },
      "execution_count": null,
      "outputs": []
    },
    {
      "cell_type": "code",
      "source": [
        "labels = []\n",
        "y = []\n",
        "classes = reduced_dataset['class'].value_counts()\n",
        "for label, num_items in classes.items():\n",
        "  labels.append(label)\n",
        "  y.append(num_items)\n",
        "\n",
        "plt.pie(y, labels = labels)\n",
        "plt.show() "
      ],
      "metadata": {
        "colab": {
          "base_uri": "https://localhost:8080/",
          "height": 248
        },
        "outputId": "d46c2dc9-2818-453e-80b4-d6a7bf69f4e7",
        "id": "8s1iK8k8kw_E"
      },
      "execution_count": null,
      "outputs": [
        {
          "output_type": "display_data",
          "data": {
            "image/png": "[encoded data removed]",
            "text/plain": [
              "<Figure size 432x288 with 1 Axes>"
            ]
          },
          "metadata": {}
        }
      ]
    },
    {
      "cell_type": "markdown",
      "source": [
        "### Features\n",
        "Let's start our analysis on the features by starting from analyzing the distribution of the lenght of the packets"
      ],
      "metadata": {
        "id": "TspND4zsGWxv"
      }
    },
    {
      "cell_type": "code",
      "source": [
        "import matplotlib.pyplot as plt \n",
        "import numpy as np \n",
        "  \n",
        "data = [reduced_dataset['length']]\n",
        "fig = plt.figure(figsize =(10, 7))\n",
        "\n",
        "# Creating plot \n",
        "plt.boxplot(data) \n",
        "  \n",
        "# show plot \n",
        "plt.show() "
      ],
      "metadata": {
        "colab": {
          "base_uri": "https://localhost:8080/",
          "height": 428
        },
        "id": "jlONx1f7VpFi",
        "outputId": "00a34525-7352-4638-b672-f2f6bd88eb14"
      },
      "execution_count": null,
      "outputs": [
        {
          "output_type": "display_data",
          "data": {
            "image/png": "[encoded data removed]",
            "text/plain": [
              "<Figure size 720x504 with 1 Axes>"
            ]
          },
          "metadata": {
            "needs_background": "light"
          }
        }
      ]
    },
    {
      "cell_type": "markdown",
      "source": [
        "Seems that packets have a lot of different values; we know that length till 66 / 100 are synchronization packets, while the higher are communication packets; for this reason we will analyze the length in correlation with the class of the packet"
      ],
      "metadata": {
        "id": "7CifRd-bH-jV"
      }
    },
    {
      "cell_type": "code",
      "source": [
        "output_class = reduced_dataset['class'].unique()\n",
        "fig = plt.figure(figsize=[40,10])\n",
        "ax1 = fig.add_subplot(1,2,1) # add first subplob\n",
        "values = []\n",
        "for target in output_class:\n",
        "  values.append(reduced_dataset[reduced_dataset['class'] == target]['length'].values)\n",
        "\n",
        "ax1.boxplot(values, labels=output_class)\n",
        "ax1.legend()\n",
        "fig.show() "
      ],
      "metadata": {
        "id": "w8hXhZFgIGQZ",
        "colab": {
          "base_uri": "https://localhost:8080/",
          "height": 664
        },
        "outputId": "893caa80-51a0-44d9-836f-4f63ec5d5f7f"
      },
      "execution_count": null,
      "outputs": [
        {
          "output_type": "stream",
          "name": "stderr",
          "text": [
            "/usr/local/lib/python3.7/dist-packages/numpy/core/_asarray.py:83: VisibleDeprecationWarning: Creating an ndarray from ragged nested sequences (which is a list-or-tuple of lists-or-tuples-or ndarrays with different lengths or shapes) is deprecated. If you meant to do this, you must specify 'dtype=object' when creating the ndarray\n",
            "  return array(a, dtype, copy=False, order=order)\n",
            "No handles with labels found to put in legend.\n"
          ]
        },
        {
          "output_type": "display_data",
          "data": {
            "image/png": "[encoded data removed]",
            "text/plain": [
              "<Figure size 2880x720 with 1 Axes>"
            ]
          },
          "metadata": {
            "needs_background": "light"
          }
        }
      ]
    },
    {
      "cell_type": "code",
      "source": [
        "x_coordinates = reduced_dataset[reduced_dataset['class'] == 'not_justified']['length'].values\n",
        "y_coordinates = list(range(0, len(reduced_dataset[reduced_dataset['class'] == 'not_justified']['length'].values)))\n",
        "fig, (ax1, ax2, ax3) = plt.subplots(1, 3, figsize=[20,5])\n",
        "ax1.scatter(x_coordinates, y_coordinates)\n",
        "ax1.title.set_text(\"Not Justified length distribution\")\n",
        "\n",
        "x_coordinates = reduced_dataset[reduced_dataset['class'] == 'justified']['length'].values\n",
        "y_coordinates = list(range(0, len(reduced_dataset[reduced_dataset['class'] == 'justified']['length'].values)))\n",
        "ax2.scatter(x_coordinates, y_coordinates)\n",
        "ax2.title.set_text(\"Justified length distribution\")\n",
        "\n",
        "x_coordinates = reduced_dataset[reduced_dataset['class'] == 'expected']['length'].values\n",
        "y_coordinates = list(range(0, len(reduced_dataset[reduced_dataset['class'] == 'expected']['length'].values)))\n",
        "ax3.scatter(x_coordinates, y_coordinates)\n",
        "ax3.title.set_text(\"Expected length distribution\")\n",
        "\n",
        "fig.show() "
      ],
      "metadata": {
        "colab": {
          "base_uri": "https://localhost:8080/",
          "height": 336
        },
        "id": "sD8aiNP9tfbK",
        "outputId": "09efd804-7f5f-4b98-eeba-fbb011f9534a"
      },
      "execution_count": null,
      "outputs": [
        {
          "output_type": "display_data",
          "data": {
            "image/png": "[encoded data removed]",
            "text/plain": [
              "<Figure size 1440x360 with 3 Axes>"
            ]
          },
          "metadata": {
            "needs_background": "light"
          }
        }
      ]
    },
    {
      "cell_type": "markdown",
      "source": [
        "So, the justified and the not justified have a different behaviour respect to the expected one, but we can differ the not_justified from the justified by the microphone features, as we can see below."
      ],
      "metadata": {
        "id": "1yHylfXsPV1j"
      }
    },
    {
      "cell_type": "code",
      "source": [
        "y = []\n",
        "labels = []\n",
        "print(\"Not justified packets with microphone on: \",str(len(reduced_dataset.loc[(reduced_dataset['microphone'] == 1) & (reduced_dataset['class'] == 'not_justified')].index)))\n",
        "y.append(len(reduced_dataset.loc[(reduced_dataset['microphone'] == 1) & (reduced_dataset['class'] == 'not_justified')].index))\n",
        "labels.append(\"Not Justified, mic. on\")\n",
        "print(\"Justified packets with microphone on: \",str(len(reduced_dataset.loc[(reduced_dataset['microphone'] == 1) & (reduced_dataset['class'] == 'justified')].index)))\n",
        "y.append(len(reduced_dataset.loc[(reduced_dataset['microphone'] == 1) & (reduced_dataset['class'] == 'justified')].index))\n",
        "labels.append(\"Justified, mic. on\")\n",
        "print()\n",
        "print(\"Not justified packets with microphone off: \",str(len(reduced_dataset.loc[(reduced_dataset['microphone'] == 0) & (reduced_dataset['class'] == 'not_justified')].index)))\n",
        "y.append(len(reduced_dataset.loc[(reduced_dataset['microphone'] == 0) & (reduced_dataset['class'] == 'not_justified')].index))\n",
        "labels.append(\"Not Justified, mic. off\")\n",
        "print(\"Justified packets with microphone off: \",str(len(reduced_dataset.loc[(reduced_dataset['microphone'] == 0) & (reduced_dataset['class'] == 'justified')].index)))\n",
        "y.append(len(reduced_dataset.loc[(reduced_dataset['microphone'] == 0) & (reduced_dataset['class'] == 'justified')].index))\n",
        "labels.append(\"Justified, mic. off\")\n",
        "\n",
        "plt.pie(y, labels = labels)\n",
        "plt.show() \n"
      ],
      "metadata": {
        "colab": {
          "base_uri": "https://localhost:8080/",
          "height": 335
        },
        "id": "8zBSHwoIPGkU",
        "outputId": "7c01f8be-0683-48b3-b888-c545b83efbc1"
      },
      "execution_count": null,
      "outputs": [
        {
          "output_type": "stream",
          "name": "stdout",
          "text": [
            "Not justified packets with microphone on:  886\n",
            "Justified packets with microphone on:  1316\n",
            "\n",
            "Not justified packets with microphone off:  475\n",
            "Justified packets with microphone off:  0\n"
          ]
        },
        {
          "output_type": "display_data",
          "data": {
            "image/png": "[encoded data removed]",
            "text/plain": [
              "<Figure size 432x288 with 1 Axes>"
            ]
          },
          "metadata": {}
        }
      ]
    },
    {
      "cell_type": "markdown",
      "source": [
        "In fact, there is no justified packet when the microphone has been disabled.\n",
        "Let's analyze the synchronization and ack flag features."
      ],
      "metadata": {
        "id": "qHYs8vFjTKMM"
      }
    },
    {
      "cell_type": "code",
      "source": [
        "y = []\n",
        "labels = []\n",
        "print(\"Synchronized: \",str(len(reduced_dataset.loc[(reduced_dataset['synchronized'] == 1)].index)))\n",
        "y.append(len(reduced_dataset.loc[(reduced_dataset['synchronized'] == 1)].index))\n",
        "labels.append(\"Synchronized\")\n",
        "print(\"Not Synchronized: \",str(len(reduced_dataset.loc[(reduced_dataset['synchronized'] == 0)].index)))\n",
        "y.append(len(reduced_dataset.loc[(reduced_dataset['synchronized'] == 0)].index))\n",
        "labels.append(\"Not Synchronized\")\n",
        "\n",
        "plt.pie(y, labels = labels)\n",
        "plt.show() "
      ],
      "metadata": {
        "colab": {
          "base_uri": "https://localhost:8080/",
          "height": 283
        },
        "id": "nHldsTUJbD98",
        "outputId": "3e257af3-ee8d-4310-da6d-c79450b615b5"
      },
      "execution_count": null,
      "outputs": [
        {
          "output_type": "stream",
          "name": "stdout",
          "text": [
            "Synchronized:  16791\n",
            "Not Synchronized:  0\n"
          ]
        },
        {
          "output_type": "display_data",
          "data": {
            "image/png": "[encoded data removed]",
            "text/plain": [
              "<Figure size 432x288 with 1 Axes>"
            ]
          },
          "metadata": {}
        }
      ]
    },
    {
      "cell_type": "code",
      "source": [
        "y = []\n",
        "labels = []\n",
        "print(\"Ack flag: \",str(len(reduced_dataset.loc[(reduced_dataset['ack_flag'] == 1)].index)))\n",
        "y.append(len(reduced_dataset.loc[(reduced_dataset['ack_flag'] == 1)].index))\n",
        "labels.append(\"Ack flag\")\n",
        "print(\"No ack flag: \",str(len(reduced_dataset.loc[(reduced_dataset['ack_flag'] == 0)].index)))\n",
        "y.append(len(reduced_dataset.loc[(reduced_dataset['ack_flag'] == 0)].index))\n",
        "labels.append(\"No ack flag\")\n",
        "\n",
        "plt.pie(y, labels = labels)\n",
        "plt.show() "
      ],
      "metadata": {
        "colab": {
          "base_uri": "https://localhost:8080/",
          "height": 283
        },
        "id": "PeYRMVPTdKLt",
        "outputId": "1f226c5d-9605-4af9-a75f-7b571151e274"
      },
      "execution_count": null,
      "outputs": [
        {
          "output_type": "stream",
          "name": "stdout",
          "text": [
            "Ack flag:  15334\n",
            "No ack flag:  1457\n"
          ]
        },
        {
          "output_type": "display_data",
          "data": {
            "image/png": "[encoded data removed]",
            "text/plain": [
              "<Figure size 432x288 with 1 Axes>"
            ]
          },
          "metadata": {}
        }
      ]
    },
    {
      "cell_type": "markdown",
      "source": [
        "As show in the last pie chart there is any packet captured during the no-synchronization phase; this behaviour is justified by the fact that is impossible to capture packet when the device is not sychronized. The just initialized Echo will ask to the user to configure the Echo using Amazon Alexa app, that is associated with an account, so it must be always synchronized with an account to work. For these reasons we will remove the synchronization feature.\n",
        "\n",
        "Regarding the ack flag instead, since a lot of communication packets (justified / not justified) contains an ack together with the application data we need to store this feature."
      ],
      "metadata": {
        "id": "Gp9Rl9b1cNFd"
      }
    },
    {
      "cell_type": "code",
      "source": [
        "reduced_dataset = reduced_dataset.drop('synchronized', 1)"
      ],
      "metadata": {
        "id": "r2Wf5-4Lc0Li"
      },
      "execution_count": null,
      "outputs": []
    },
    {
      "cell_type": "markdown",
      "source": [
        "Let's compute the distribution of highest layer, remembering the meaning of each value:\n",
        "* 0 - SSL\n",
        "* 1 - TCP\n",
        "* 2 - DATA\n",
        "* 3 - HTTP\n"
      ],
      "metadata": {
        "id": "97PA5KCXeR-d"
      }
    },
    {
      "cell_type": "code",
      "source": [
        "labels = []\n",
        "y = []\n",
        "classes = reduced_dataset['highest_layer'].value_counts()\n",
        "for label, num_items in classes.items():\n",
        "  print(label,  \":\", num_items)\n",
        "  labels.append(label)\n",
        "  y.append(num_items)\n",
        "\n",
        "plt.pie(y, labels = labels)\n",
        "plt.show() "
      ],
      "metadata": {
        "colab": {
          "base_uri": "https://localhost:8080/",
          "height": 317
        },
        "id": "oO9m3muveXzW",
        "outputId": "e6bd03f8-1811-4313-ceb3-93b1add38f4e"
      },
      "execution_count": null,
      "outputs": [
        {
          "output_type": "stream",
          "name": "stdout",
          "text": [
            "0.0 : 11067\n",
            "1.0 : 4418\n",
            "2.0 : 725\n",
            "3.0 : 581\n"
          ]
        },
        {
          "output_type": "display_data",
          "data": {
            "image/png": "[encoded data removed]",
            "text/plain": [
              "<Figure size 432x288 with 1 Axes>"
            ]
          },
          "metadata": {}
        }
      ]
    },
    {
      "cell_type": "markdown",
      "source": [
        "## Store\n",
        "After applied the dataset normalization / merging techniques; we can proceed to save the obrained dataset."
      ],
      "metadata": {
        "id": "mmXfkGLIfQUv"
      }
    },
    {
      "cell_type": "code",
      "source": [
        "reduced_dataset.to_csv('final_dataset.csv', index=False)\n",
        "reduced_dataset"
      ],
      "metadata": {
        "colab": {
          "base_uri": "https://localhost:8080/",
          "height": 424
        },
        "id": "YG5uEBK_gy7i",
        "outputId": "2c6b0293-8269-43f9-ff04-9ff6cb5dda8d"
      },
      "execution_count": null,
      "outputs": [
        {
          "output_type": "execute_result",
          "data": {
            "text/html": [
              "\n",
              "  <div id=\"df-34716f1b-c477-49aa-8a07-715a746fc984\">\n",
              "    <div class=\"colab-df-container\">\n",
              "      <div>\n",
              "<style scoped>\n",
              "    .dataframe tbody tr th:only-of-type {\n",
              "        vertical-align: middle;\n",
              "    }\n",
              "\n",
              "    .dataframe tbody tr th {\n",
              "        vertical-align: top;\n",
              "    }\n",
              "\n",
              "    .dataframe thead th {\n",
              "        text-align: right;\n",
              "    }\n",
              "</style>\n",
              "<table border=\"1\" class=\"dataframe\">\n",
              "  <thead>\n",
              "    <tr style=\"text-align: right;\">\n",
              "      <th></th>\n",
              "      <th>length</th>\n",
              "      <th>dstport</th>\n",
              "      <th>highest_layer</th>\n",
              "      <th>delta</th>\n",
              "      <th>ack_flag</th>\n",
              "      <th>microphone</th>\n",
              "      <th>content_type</th>\n",
              "      <th>class</th>\n",
              "    </tr>\n",
              "  </thead>\n",
              "  <tbody>\n",
              "    <tr>\n",
              "      <th>0</th>\n",
              "      <td>77</td>\n",
              "      <td>4070</td>\n",
              "      <td>2.0</td>\n",
              "      <td>0</td>\n",
              "      <td>1</td>\n",
              "      <td>0</td>\n",
              "      <td>0.0</td>\n",
              "      <td>syn</td>\n",
              "    </tr>\n",
              "    <tr>\n",
              "      <th>2</th>\n",
              "      <td>100</td>\n",
              "      <td>443</td>\n",
              "      <td>0.0</td>\n",
              "      <td>0</td>\n",
              "      <td>1</td>\n",
              "      <td>0</td>\n",
              "      <td>23.0</td>\n",
              "      <td>syn</td>\n",
              "    </tr>\n",
              "    <tr>\n",
              "      <th>4</th>\n",
              "      <td>351</td>\n",
              "      <td>443</td>\n",
              "      <td>0.0</td>\n",
              "      <td>15316</td>\n",
              "      <td>1</td>\n",
              "      <td>0</td>\n",
              "      <td>23.0</td>\n",
              "      <td>not_justified</td>\n",
              "    </tr>\n",
              "    <tr>\n",
              "      <th>6</th>\n",
              "      <td>77</td>\n",
              "      <td>4070</td>\n",
              "      <td>2.0</td>\n",
              "      <td>0</td>\n",
              "      <td>1</td>\n",
              "      <td>0</td>\n",
              "      <td>0.0</td>\n",
              "      <td>syn</td>\n",
              "    </tr>\n",
              "    <tr>\n",
              "      <th>9</th>\n",
              "      <td>100</td>\n",
              "      <td>443</td>\n",
              "      <td>0.0</td>\n",
              "      <td>0</td>\n",
              "      <td>1</td>\n",
              "      <td>0</td>\n",
              "      <td>23.0</td>\n",
              "      <td>syn</td>\n",
              "    </tr>\n",
              "    <tr>\n",
              "      <th>...</th>\n",
              "      <td>...</td>\n",
              "      <td>...</td>\n",
              "      <td>...</td>\n",
              "      <td>...</td>\n",
              "      <td>...</td>\n",
              "      <td>...</td>\n",
              "      <td>...</td>\n",
              "      <td>...</td>\n",
              "    </tr>\n",
              "    <tr>\n",
              "      <th>62622</th>\n",
              "      <td>164</td>\n",
              "      <td>443</td>\n",
              "      <td>0.0</td>\n",
              "      <td>0</td>\n",
              "      <td>1</td>\n",
              "      <td>1</td>\n",
              "      <td>23.0</td>\n",
              "      <td>expected</td>\n",
              "    </tr>\n",
              "    <tr>\n",
              "      <th>62623</th>\n",
              "      <td>626</td>\n",
              "      <td>443</td>\n",
              "      <td>0.0</td>\n",
              "      <td>0</td>\n",
              "      <td>1</td>\n",
              "      <td>1</td>\n",
              "      <td>23.0</td>\n",
              "      <td>expected</td>\n",
              "    </tr>\n",
              "    <tr>\n",
              "      <th>62624</th>\n",
              "      <td>104</td>\n",
              "      <td>443</td>\n",
              "      <td>0.0</td>\n",
              "      <td>0</td>\n",
              "      <td>1</td>\n",
              "      <td>1</td>\n",
              "      <td>23.0</td>\n",
              "      <td>expected</td>\n",
              "    </tr>\n",
              "    <tr>\n",
              "      <th>62627</th>\n",
              "      <td>602</td>\n",
              "      <td>443</td>\n",
              "      <td>0.0</td>\n",
              "      <td>2</td>\n",
              "      <td>1</td>\n",
              "      <td>1</td>\n",
              "      <td>23.0</td>\n",
              "      <td>expected</td>\n",
              "    </tr>\n",
              "    <tr>\n",
              "      <th>62628</th>\n",
              "      <td>97</td>\n",
              "      <td>443</td>\n",
              "      <td>0.0</td>\n",
              "      <td>208</td>\n",
              "      <td>1</td>\n",
              "      <td>1</td>\n",
              "      <td>21.0</td>\n",
              "      <td>handshake</td>\n",
              "    </tr>\n",
              "  </tbody>\n",
              "</table>\n",
              "<p>16791 rows × 8 columns</p>\n",
              "</div>\n",
              "      <button class=\"colab-df-convert\" onclick=\"convertToInteractive('df-34716f1b-c477-49aa-8a07-715a746fc984')\"\n",
              "              title=\"Convert this dataframe to an interactive table.\"\n",
              "              style=\"display:none;\">\n",
              "        \n",
              "  <svg xmlns=\"http://www.w3.org/2000/svg\" height=\"24px\"viewBox=\"0 0 24 24\"\n",
              "       width=\"24px\">\n",
              "    <path d=\"M0 0h24v24H0V0z\" fill=\"none\"/>\n",
              "    <path d=\"M18.56 5.44l.94 2.06.94-2.06 2.06-.94-2.06-.94-.94-2.06-.94 2.06-2.06.94zm-11 1L8.5 8.5l.94-2.06 2.06-.94-2.06-.94L8.5 2.5l-.94 2.06-2.06.94zm10 10l.94 2.06.94-2.06 2.06-.94-2.06-.94-.94-2.06-.94 2.06-2.06.94z\"/><path d=\"M17.41 7.96l-1.37-1.37c-.4-.4-.92-.59-1.43-.59-.52 0-1.04.2-1.43.59L10.3 9.45l-7.72 7.72c-.78.78-.78 2.05 0 2.83L4 21.41c.39.39.9.59 1.41.59.51 0 1.02-.2 1.41-.59l7.78-7.78 2.81-2.81c.8-.78.8-2.07 0-2.86zM5.41 20L4 18.59l7.72-7.72 1.47 1.35L5.41 20z\"/>\n",
              "  </svg>\n",
              "      </button>\n",
              "      \n",
              "  <style>\n",
              "    .colab-df-container {\n",
              "      display:flex;\n",
              "      flex-wrap:wrap;\n",
              "      gap: 12px;\n",
              "    }\n",
              "\n",
              "    .colab-df-convert {\n",
              "      background-color: #E8F0FE;\n",
              "      border: none;\n",
              "      border-radius: 50%;\n",
              "      cursor: pointer;\n",
              "      display: none;\n",
              "      fill: #1967D2;\n",
              "      height: 32px;\n",
              "      padding: 0 0 0 0;\n",
              "      width: 32px;\n",
              "    }\n",
              "\n",
              "    .colab-df-convert:hover {\n",
              "      background-color: #E2EBFA;\n",
              "      box-shadow: 0px 1px 2px rgba(60, 64, 67, 0.3), 0px 1px 3px 1px rgba(60, 64, 67, 0.15);\n",
              "      fill: #174EA6;\n",
              "    }\n",
              "\n",
              "    [theme=dark] .colab-df-convert {\n",
              "      background-color: #3B4455;\n",
              "      fill: #D2E3FC;\n",
              "    }\n",
              "\n",
              "    [theme=dark] .colab-df-convert:hover {\n",
              "      background-color: #434B5C;\n",
              "      box-shadow: 0px 1px 3px 1px rgba(0, 0, 0, 0.15);\n",
              "      filter: drop-shadow(0px 1px 2px rgba(0, 0, 0, 0.3));\n",
              "      fill: #FFFFFF;\n",
              "    }\n",
              "  </style>\n",
              "\n",
              "      <script>\n",
              "        const buttonEl =\n",
              "          document.querySelector('#df-34716f1b-c477-49aa-8a07-715a746fc984 button.colab-df-convert');\n",
              "        buttonEl.style.display =\n",
              "          google.colab.kernel.accessAllowed ? 'block' : 'none';\n",
              "\n",
              "        async function convertToInteractive(key) {\n",
              "          const element = document.querySelector('#df-34716f1b-c477-49aa-8a07-715a746fc984');\n",
              "          const dataTable =\n",
              "            await google.colab.kernel.invokeFunction('convertToInteractive',\n",
              "                                                     [key], {});\n",
              "          if (!dataTable) return;\n",
              "\n",
              "          const docLinkHtml = 'Like what you see? Visit the ' +\n",
              "            '<a target=\"_blank\" href=https://colab.research.google.com/notebooks/data_table.ipynb>data table notebook</a>'\n",
              "            + ' to learn more about interactive tables.';\n",
              "          element.innerHTML = '';\n",
              "          dataTable['output_type'] = 'display_data';\n",
              "          await google.colab.output.renderOutput(dataTable, element);\n",
              "          const docLink = document.createElement('div');\n",
              "          docLink.innerHTML = docLinkHtml;\n",
              "          element.appendChild(docLink);\n",
              "        }\n",
              "      </script>\n",
              "    </div>\n",
              "  </div>\n",
              "  "
            ],
            "text/plain": [
              "       length  dstport  highest_layer  ...  microphone  content_type          class\n",
              "0          77     4070            2.0  ...           0           0.0            syn\n",
              "2         100      443            0.0  ...           0          23.0            syn\n",
              "4         351      443            0.0  ...           0          23.0  not_justified\n",
              "6          77     4070            2.0  ...           0           0.0            syn\n",
              "9         100      443            0.0  ...           0          23.0            syn\n",
              "...       ...      ...            ...  ...         ...           ...            ...\n",
              "62622     164      443            0.0  ...           1          23.0       expected\n",
              "62623     626      443            0.0  ...           1          23.0       expected\n",
              "62624     104      443            0.0  ...           1          23.0       expected\n",
              "62627     602      443            0.0  ...           1          23.0       expected\n",
              "62628      97      443            0.0  ...           1          21.0      handshake\n",
              "\n",
              "[16791 rows x 8 columns]"
            ]
          },
          "metadata": {},
          "execution_count": 111
        }
      ]
    },
    {
      "cell_type": "markdown",
      "source": [
        "# Machine Learning"
      ],
      "metadata": {
        "id": "wrHdmZDYhJal"
      }
    },
    {
      "cell_type": "markdown",
      "source": [
        "## Load and balance\n",
        "Loading of the dataset and split it into train and test dataset by removing the last column that contains the target values. The split follow the 70/30 technique."
      ],
      "metadata": {
        "id": "6u4SuuauNsLJ"
      }
    },
    {
      "cell_type": "code",
      "source": [
        "import pandas as pd\n",
        "final_dataset = pd.read_csv('final_dataset.csv')\n",
        "X = final_dataset.iloc[:, 0:7].values\n",
        "y = final_dataset.iloc[:, 7].values\n"
      ],
      "metadata": {
        "id": "-_TqMl6uhTIf"
      },
      "execution_count": null,
      "outputs": []
    },
    {
      "cell_type": "code",
      "source": [
        "from imblearn.over_sampling import SMOTE\n",
        "from collections import Counter\n",
        "\n",
        "oversample = SMOTE()\n",
        "X, y = oversample.fit_resample(X, y)\n",
        "\n",
        "counter = Counter(y)\n",
        "print(counter)"
      ],
      "metadata": {
        "colab": {
          "base_uri": "https://localhost:8080/"
        },
        "id": "gvQwPTjb2hoi",
        "outputId": "804d2a4c-1bae-4765-d8c1-30c336216586"
      },
      "execution_count": null,
      "outputs": [
        {
          "output_type": "stream",
          "name": "stdout",
          "text": [
            "Counter({'syn': 4813, 'not_justified': 4813, 'ack': 4813, 'retransmit': 4813, 'handshake': 4813, 'not_relevant': 4813, 'justified': 4813, 'expected': 4813})\n"
          ]
        }
      ]
    },
    {
      "cell_type": "markdown",
      "source": [
        "## Split"
      ],
      "metadata": {
        "id": "TDHPSOC45kkj"
      }
    },
    {
      "cell_type": "code",
      "source": [
        "from sklearn.model_selection import train_test_split\n",
        "X_train, X_test, Y_train, Y_test = train_test_split(X, y, test_size=0.3, random_state = 6)"
      ],
      "metadata": {
        "id": "s8E5gDlu3YfK"
      },
      "execution_count": null,
      "outputs": []
    },
    {
      "cell_type": "markdown",
      "source": [
        "## Standardization\n",
        "Let's make the data more regular by applying a min-max transformation."
      ],
      "metadata": {
        "id": "neoeYSM6hxuJ"
      }
    },
    {
      "cell_type": "code",
      "source": [
        "from sklearn import preprocessing\n",
        "\n",
        "std_scaler = preprocessing.StandardScaler()\n",
        "X_train_scaled = std_scaler.fit_transform(X_train)\n",
        "X_test_scaled = std_scaler.transform(X_test)\n",
        "pd.DataFrame(X_train_scaled)"
      ],
      "metadata": {
        "id": "LuEa1qMLhTQx",
        "colab": {
          "base_uri": "https://localhost:8080/",
          "height": 424
        },
        "outputId": "6d0dc4e5-19ae-427e-9504-1ea54eb4a521"
      },
      "execution_count": null,
      "outputs": [
        {
          "output_type": "execute_result",
          "data": {
            "text/html": [
              "\n",
              "  <div id=\"df-8d690bca-fcba-4af9-8602-cf9ae8fd348a\">\n",
              "    <div class=\"colab-df-container\">\n",
              "      <div>\n",
              "<style scoped>\n",
              "    .dataframe tbody tr th:only-of-type {\n",
              "        vertical-align: middle;\n",
              "    }\n",
              "\n",
              "    .dataframe tbody tr th {\n",
              "        vertical-align: top;\n",
              "    }\n",
              "\n",
              "    .dataframe thead th {\n",
              "        text-align: right;\n",
              "    }\n",
              "</style>\n",
              "<table border=\"1\" class=\"dataframe\">\n",
              "  <thead>\n",
              "    <tr style=\"text-align: right;\">\n",
              "      <th></th>\n",
              "      <th>0</th>\n",
              "      <th>1</th>\n",
              "      <th>2</th>\n",
              "      <th>3</th>\n",
              "      <th>4</th>\n",
              "      <th>5</th>\n",
              "      <th>6</th>\n",
              "    </tr>\n",
              "  </thead>\n",
              "  <tbody>\n",
              "    <tr>\n",
              "      <th>0</th>\n",
              "      <td>-0.640721</td>\n",
              "      <td>-0.282341</td>\n",
              "      <td>-0.691399</td>\n",
              "      <td>-0.279553</td>\n",
              "      <td>0.376553</td>\n",
              "      <td>0.47325</td>\n",
              "      <td>0.879426</td>\n",
              "    </tr>\n",
              "    <tr>\n",
              "      <th>1</th>\n",
              "      <td>0.136938</td>\n",
              "      <td>-0.282341</td>\n",
              "      <td>-0.691399</td>\n",
              "      <td>-0.279553</td>\n",
              "      <td>0.376553</td>\n",
              "      <td>0.47325</td>\n",
              "      <td>0.879426</td>\n",
              "    </tr>\n",
              "    <tr>\n",
              "      <th>2</th>\n",
              "      <td>0.228302</td>\n",
              "      <td>-0.282341</td>\n",
              "      <td>-0.691399</td>\n",
              "      <td>-0.279480</td>\n",
              "      <td>0.376553</td>\n",
              "      <td>0.47325</td>\n",
              "      <td>0.790229</td>\n",
              "    </tr>\n",
              "    <tr>\n",
              "      <th>3</th>\n",
              "      <td>0.277171</td>\n",
              "      <td>-0.307915</td>\n",
              "      <td>2.592923</td>\n",
              "      <td>-0.279553</td>\n",
              "      <td>0.376553</td>\n",
              "      <td>0.47325</td>\n",
              "      <td>-1.172103</td>\n",
              "    </tr>\n",
              "    <tr>\n",
              "      <th>4</th>\n",
              "      <td>-0.721462</td>\n",
              "      <td>-0.282341</td>\n",
              "      <td>0.403375</td>\n",
              "      <td>-0.212970</td>\n",
              "      <td>-2.655670</td>\n",
              "      <td>-2.19156</td>\n",
              "      <td>-1.172103</td>\n",
              "    </tr>\n",
              "    <tr>\n",
              "      <th>...</th>\n",
              "      <td>...</td>\n",
              "      <td>...</td>\n",
              "      <td>...</td>\n",
              "      <td>...</td>\n",
              "      <td>...</td>\n",
              "      <td>...</td>\n",
              "      <td>...</td>\n",
              "    </tr>\n",
              "    <tr>\n",
              "      <th>26947</th>\n",
              "      <td>0.228302</td>\n",
              "      <td>-0.282341</td>\n",
              "      <td>-0.691399</td>\n",
              "      <td>-0.278723</td>\n",
              "      <td>0.376553</td>\n",
              "      <td>0.47325</td>\n",
              "      <td>0.790229</td>\n",
              "    </tr>\n",
              "    <tr>\n",
              "      <th>26948</th>\n",
              "      <td>2.129954</td>\n",
              "      <td>-0.282341</td>\n",
              "      <td>-0.691399</td>\n",
              "      <td>-0.279553</td>\n",
              "      <td>0.376553</td>\n",
              "      <td>0.47325</td>\n",
              "      <td>0.879426</td>\n",
              "    </tr>\n",
              "    <tr>\n",
              "      <th>26949</th>\n",
              "      <td>0.272922</td>\n",
              "      <td>-0.307915</td>\n",
              "      <td>2.592923</td>\n",
              "      <td>-0.279553</td>\n",
              "      <td>0.376553</td>\n",
              "      <td>0.47325</td>\n",
              "      <td>-1.172103</td>\n",
              "    </tr>\n",
              "    <tr>\n",
              "      <th>26950</th>\n",
              "      <td>-0.623723</td>\n",
              "      <td>-0.282341</td>\n",
              "      <td>-0.691399</td>\n",
              "      <td>1.901111</td>\n",
              "      <td>0.376553</td>\n",
              "      <td>0.47325</td>\n",
              "      <td>0.879426</td>\n",
              "    </tr>\n",
              "    <tr>\n",
              "      <th>26951</th>\n",
              "      <td>0.272922</td>\n",
              "      <td>-0.307915</td>\n",
              "      <td>2.592923</td>\n",
              "      <td>-0.279553</td>\n",
              "      <td>0.376553</td>\n",
              "      <td>0.47325</td>\n",
              "      <td>-1.172103</td>\n",
              "    </tr>\n",
              "  </tbody>\n",
              "</table>\n",
              "<p>26952 rows × 7 columns</p>\n",
              "</div>\n",
              "      <button class=\"colab-df-convert\" onclick=\"convertToInteractive('df-8d690bca-fcba-4af9-8602-cf9ae8fd348a')\"\n",
              "              title=\"Convert this dataframe to an interactive table.\"\n",
              "              style=\"display:none;\">\n",
              "        \n",
              "  <svg xmlns=\"http://www.w3.org/2000/svg\" height=\"24px\"viewBox=\"0 0 24 24\"\n",
              "       width=\"24px\">\n",
              "    <path d=\"M0 0h24v24H0V0z\" fill=\"none\"/>\n",
              "    <path d=\"M18.56 5.44l.94 2.06.94-2.06 2.06-.94-2.06-.94-.94-2.06-.94 2.06-2.06.94zm-11 1L8.5 8.5l.94-2.06 2.06-.94-2.06-.94L8.5 2.5l-.94 2.06-2.06.94zm10 10l.94 2.06.94-2.06 2.06-.94-2.06-.94-.94-2.06-.94 2.06-2.06.94z\"/><path d=\"M17.41 7.96l-1.37-1.37c-.4-.4-.92-.59-1.43-.59-.52 0-1.04.2-1.43.59L10.3 9.45l-7.72 7.72c-.78.78-.78 2.05 0 2.83L4 21.41c.39.39.9.59 1.41.59.51 0 1.02-.2 1.41-.59l7.78-7.78 2.81-2.81c.8-.78.8-2.07 0-2.86zM5.41 20L4 18.59l7.72-7.72 1.47 1.35L5.41 20z\"/>\n",
              "  </svg>\n",
              "      </button>\n",
              "      \n",
              "  <style>\n",
              "    .colab-df-container {\n",
              "      display:flex;\n",
              "      flex-wrap:wrap;\n",
              "      gap: 12px;\n",
              "    }\n",
              "\n",
              "    .colab-df-convert {\n",
              "      background-color: #E8F0FE;\n",
              "      border: none;\n",
              "      border-radius: 50%;\n",
              "      cursor: pointer;\n",
              "      display: none;\n",
              "      fill: #1967D2;\n",
              "      height: 32px;\n",
              "      padding: 0 0 0 0;\n",
              "      width: 32px;\n",
              "    }\n",
              "\n",
              "    .colab-df-convert:hover {\n",
              "      background-color: #E2EBFA;\n",
              "      box-shadow: 0px 1px 2px rgba(60, 64, 67, 0.3), 0px 1px 3px 1px rgba(60, 64, 67, 0.15);\n",
              "      fill: #174EA6;\n",
              "    }\n",
              "\n",
              "    [theme=dark] .colab-df-convert {\n",
              "      background-color: #3B4455;\n",
              "      fill: #D2E3FC;\n",
              "    }\n",
              "\n",
              "    [theme=dark] .colab-df-convert:hover {\n",
              "      background-color: #434B5C;\n",
              "      box-shadow: 0px 1px 3px 1px rgba(0, 0, 0, 0.15);\n",
              "      filter: drop-shadow(0px 1px 2px rgba(0, 0, 0, 0.3));\n",
              "      fill: #FFFFFF;\n",
              "    }\n",
              "  </style>\n",
              "\n",
              "      <script>\n",
              "        const buttonEl =\n",
              "          document.querySelector('#df-8d690bca-fcba-4af9-8602-cf9ae8fd348a button.colab-df-convert');\n",
              "        buttonEl.style.display =\n",
              "          google.colab.kernel.accessAllowed ? 'block' : 'none';\n",
              "\n",
              "        async function convertToInteractive(key) {\n",
              "          const element = document.querySelector('#df-8d690bca-fcba-4af9-8602-cf9ae8fd348a');\n",
              "          const dataTable =\n",
              "            await google.colab.kernel.invokeFunction('convertToInteractive',\n",
              "                                                     [key], {});\n",
              "          if (!dataTable) return;\n",
              "\n",
              "          const docLinkHtml = 'Like what you see? Visit the ' +\n",
              "            '<a target=\"_blank\" href=https://colab.research.google.com/notebooks/data_table.ipynb>data table notebook</a>'\n",
              "            + ' to learn more about interactive tables.';\n",
              "          element.innerHTML = '';\n",
              "          dataTable['output_type'] = 'display_data';\n",
              "          await google.colab.output.renderOutput(dataTable, element);\n",
              "          const docLink = document.createElement('div');\n",
              "          docLink.innerHTML = docLinkHtml;\n",
              "          element.appendChild(docLink);\n",
              "        }\n",
              "      </script>\n",
              "    </div>\n",
              "  </div>\n",
              "  "
            ],
            "text/plain": [
              "              0         1         2         3         4        5         6\n",
              "0     -0.640721 -0.282341 -0.691399 -0.279553  0.376553  0.47325  0.879426\n",
              "1      0.136938 -0.282341 -0.691399 -0.279553  0.376553  0.47325  0.879426\n",
              "2      0.228302 -0.282341 -0.691399 -0.279480  0.376553  0.47325  0.790229\n",
              "3      0.277171 -0.307915  2.592923 -0.279553  0.376553  0.47325 -1.172103\n",
              "4     -0.721462 -0.282341  0.403375 -0.212970 -2.655670 -2.19156 -1.172103\n",
              "...         ...       ...       ...       ...       ...      ...       ...\n",
              "26947  0.228302 -0.282341 -0.691399 -0.278723  0.376553  0.47325  0.790229\n",
              "26948  2.129954 -0.282341 -0.691399 -0.279553  0.376553  0.47325  0.879426\n",
              "26949  0.272922 -0.307915  2.592923 -0.279553  0.376553  0.47325 -1.172103\n",
              "26950 -0.623723 -0.282341 -0.691399  1.901111  0.376553  0.47325  0.879426\n",
              "26951  0.272922 -0.307915  2.592923 -0.279553  0.376553  0.47325 -1.172103\n",
              "\n",
              "[26952 rows x 7 columns]"
            ]
          },
          "metadata": {},
          "execution_count": 54
        }
      ]
    },
    {
      "cell_type": "markdown",
      "source": [
        "## Features evaluation"
      ],
      "metadata": {
        "id": "CUT_2pn7OqXR"
      }
    },
    {
      "cell_type": "code",
      "source": [
        "from sklearn.model_selection import train_test_split\n",
        "from sklearn.ensemble import RandomForestClassifier\n",
        "import pandas as pd\n",
        "import matplotlib.pyplot as plt\n",
        "import seaborn as sns\n",
        "\n",
        "#Create a Gaussian Classifier\n",
        "clf=RandomForestClassifier(n_estimators=300)\n",
        "clf.fit(X_train_scaled, Y_train)\n",
        "\n",
        "# Predict the test set\n",
        "y_pred=clf.predict(X_test_scaled)\n",
        "\n",
        "feature_imp = pd.Series(clf.feature_importances_,index=[\"length\", \"dstport\", \"highest_layer\", \"delta\", \"ack_flag\", \"microphone\", \"content_type\"]).sort_values(ascending=False)\n",
        "\n",
        "%matplotlib inline\n",
        "# Creating a bar plot\n",
        "sns.barplot(x=feature_imp, y=feature_imp.index)\n",
        "# Add labels to your graph\n",
        "plt.xlabel('Feature Importance Score')\n",
        "plt.ylabel('Features')\n",
        "plt.title(\"Visualizing Important Features\")\n",
        "plt.legend()\n",
        "plt.show()"
      ],
      "metadata": {
        "colab": {
          "base_uri": "https://localhost:8080/",
          "height": 312
        },
        "id": "WeDGr7RTiZo_",
        "outputId": "24096188-c933-4804-994c-d2afd9c8c64c"
      },
      "execution_count": null,
      "outputs": [
        {
          "output_type": "stream",
          "name": "stderr",
          "text": [
            "No handles with labels found to put in legend.\n"
          ]
        },
        {
          "output_type": "display_data",
          "data": {
            "image/png": "[encoded data removed]",
            "text/plain": [
              "<Figure size 432x288 with 1 Axes>"
            ]
          },
          "metadata": {
            "needs_background": "light"
          }
        }
      ]
    }
  ]
}